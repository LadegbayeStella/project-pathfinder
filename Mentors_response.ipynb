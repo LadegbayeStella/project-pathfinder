{
 "cells": [
  {
   "cell_type": "markdown",
   "id": "25e98162",
   "metadata": {},
   "source": [
    "## Introduction "
   ]
  },
  {
   "cell_type": "raw",
   "id": "466379b9",
   "metadata": {},
   "source": [
    "This dataset is the response from potential mentors that we surveyed duringthe Capstone project. And it included their names,age,gender,country they reside, the state they currently are, career specialization,organization,frequency of mentorship, motivation for  mentorship, connection with mentees, qualities of student mentees, important of a platform for the menteer to mentorship, challenges faced with mentoring and benefits of mentorship on the platform with mentees. "
   ]
  },
  {
   "cell_type": "markdown",
   "id": "b7f4bae5",
   "metadata": {},
   "source": [
    "## Statement of Problem"
   ]
  },
  {
   "cell_type": "raw",
   "id": "b49c51af",
   "metadata": {},
   "source": [
    "The dataset is meant to bring out an out an algorithm that will be used to model future dataset to be collected on our new mentorship platform. Due to the quantity of information we had; we cannot perform a machine learning algorithm because it will lead to unbiased result; we will therefore try to check with the visualization trend of response from the mentors and know the descrepancies we encountered. "
   ]
  },
  {
   "cell_type": "code",
   "execution_count": 1,
   "id": "881c19f9",
   "metadata": {},
   "outputs": [],
   "source": [
    "#importing libraries\n",
    "import pandas as pd\n",
    "import numpy as np\n",
    "import matplotlib.pyplot as plt\n",
    "import seaborn as sns\n",
    "%matplotlib inline"
   ]
  },
  {
   "cell_type": "markdown",
   "id": "d2b0e97f",
   "metadata": {},
   "source": [
    "## Methodology "
   ]
  },
  {
   "cell_type": "raw",
   "id": "9b72895b",
   "metadata": {},
   "source": [
    "The process begin with us the importing the necessary libraries and checking whether our data contains some redundancies which needs to be clean before further analysis has to be done. "
   ]
  },
  {
   "cell_type": "code",
   "execution_count": 2,
   "id": "0d86a332",
   "metadata": {},
   "outputs": [],
   "source": [
    "df = pd.read_csv('Mentors.csv')"
   ]
  },
  {
   "cell_type": "code",
   "execution_count": 4,
   "id": "a5bef783",
   "metadata": {},
   "outputs": [
    {
     "data": {
      "text/html": [
       "<div>\n",
       "<style scoped>\n",
       "    .dataframe tbody tr th:only-of-type {\n",
       "        vertical-align: middle;\n",
       "    }\n",
       "\n",
       "    .dataframe tbody tr th {\n",
       "        vertical-align: top;\n",
       "    }\n",
       "\n",
       "    .dataframe thead th {\n",
       "        text-align: right;\n",
       "    }\n",
       "</style>\n",
       "<table border=\"1\" class=\"dataframe\">\n",
       "  <thead>\n",
       "    <tr style=\"text-align: right;\">\n",
       "      <th></th>\n",
       "      <th>Age</th>\n",
       "      <th>Gender</th>\n",
       "      <th>Country</th>\n",
       "      <th>State</th>\n",
       "      <th>Specialization</th>\n",
       "      <th>Organization</th>\n",
       "      <th>Occupation</th>\n",
       "      <th>Frequency of mentorship</th>\n",
       "      <th>Motivation of mentorship</th>\n",
       "      <th>important of mentoring</th>\n",
       "      <th>connect with mentee</th>\n",
       "      <th>qualities for student mentee</th>\n",
       "      <th>Important connection to student platform</th>\n",
       "      <th>Challenges faced with mentoring</th>\n",
       "      <th>Benefits of mentorship platform with mentees</th>\n",
       "    </tr>\n",
       "  </thead>\n",
       "  <tbody>\n",
       "    <tr>\n",
       "      <th>0</th>\n",
       "      <td>56</td>\n",
       "      <td>Male</td>\n",
       "      <td>Nigeria</td>\n",
       "      <td>Lagos</td>\n",
       "      <td>Network Marketing</td>\n",
       "      <td>Self</td>\n",
       "      <td>Sourcing</td>\n",
       "      <td>Daily</td>\n",
       "      <td>Desire to give back to the community, Personal...</td>\n",
       "      <td>Providing guidance on career paths</td>\n",
       "      <td>All of the Above</td>\n",
       "      <td>All of the Above</td>\n",
       "      <td>Extremely important</td>\n",
       "      <td>Mentee home grown effect</td>\n",
       "      <td>Quite fulfilling</td>\n",
       "    </tr>\n",
       "    <tr>\n",
       "      <th>1</th>\n",
       "      <td>35</td>\n",
       "      <td>Female</td>\n",
       "      <td>Nigeria</td>\n",
       "      <td>Christian</td>\n",
       "      <td>Agricultural Sector</td>\n",
       "      <td>Non</td>\n",
       "      <td>Non</td>\n",
       "      <td>Occasionally</td>\n",
       "      <td>Personal fulfillment</td>\n",
       "      <td>Providing guidance on career paths</td>\n",
       "      <td>All of the Above</td>\n",
       "      <td>All of the Above</td>\n",
       "      <td>Extremely important</td>\n",
       "      <td>Keeping track of students/mentees growth, Lack...</td>\n",
       "      <td>It will help in more networking with mentees</td>\n",
       "    </tr>\n",
       "    <tr>\n",
       "      <th>2</th>\n",
       "      <td>28</td>\n",
       "      <td>Male</td>\n",
       "      <td>Nigeria</td>\n",
       "      <td>Oyo</td>\n",
       "      <td>Tech</td>\n",
       "      <td>Moove</td>\n",
       "      <td>Monitoring and compliance</td>\n",
       "      <td>Occasionally</td>\n",
       "      <td>Desire to give back to the community</td>\n",
       "      <td>Providing guidance on career paths</td>\n",
       "      <td>All of the Above</td>\n",
       "      <td>All of the Above</td>\n",
       "      <td>Very important</td>\n",
       "      <td>Keeping track of students/mentees growth</td>\n",
       "      <td>NaN</td>\n",
       "    </tr>\n",
       "    <tr>\n",
       "      <th>3</th>\n",
       "      <td>25</td>\n",
       "      <td>Female</td>\n",
       "      <td>Nigeria</td>\n",
       "      <td>Ibadan</td>\n",
       "      <td>Health Sector</td>\n",
       "      <td>Nil</td>\n",
       "      <td>Nil</td>\n",
       "      <td>Monthly</td>\n",
       "      <td>Personal fulfillment</td>\n",
       "      <td>Providing guidance on career paths</td>\n",
       "      <td>Through formal mentoring programs</td>\n",
       "      <td>Eagerness to learn</td>\n",
       "      <td>Very important</td>\n",
       "      <td>Lack of mentorship plan</td>\n",
       "      <td>It will give me the ease of access</td>\n",
       "    </tr>\n",
       "    <tr>\n",
       "      <th>4</th>\n",
       "      <td>26</td>\n",
       "      <td>Male</td>\n",
       "      <td>Nigeria</td>\n",
       "      <td>Oyo</td>\n",
       "      <td>Tech</td>\n",
       "      <td>Interswitch</td>\n",
       "      <td>Customer service</td>\n",
       "      <td>Occasionally</td>\n",
       "      <td>Desire to give back to the community</td>\n",
       "      <td>Providing guidance on career paths</td>\n",
       "      <td>Through personal referrals</td>\n",
       "      <td>Eagerness to learn</td>\n",
       "      <td>Very important</td>\n",
       "      <td>Lack of motivation by students</td>\n",
       "      <td>That would be fantastic</td>\n",
       "    </tr>\n",
       "  </tbody>\n",
       "</table>\n",
       "</div>"
      ],
      "text/plain": [
       "   Age  Gender  Country       State       Specialization  Organization  \\\n",
       "0   56    Male  Nigeria       Lagos   Network Marketing           Self   \n",
       "1   35  Female  Nigeria  Christian   Agricultural Sector           Non   \n",
       "2   28    Male  Nigeria         Oyo                 Tech         Moove   \n",
       "3   25  Female  Nigeria      Ibadan        Health Sector           Nil   \n",
       "4   26    Male  Nigeria        Oyo                 Tech   Interswitch    \n",
       "\n",
       "                   Occupation Frequency of mentorship  \\\n",
       "0                   Sourcing                    Daily   \n",
       "1                         Non            Occasionally   \n",
       "2  Monitoring and compliance             Occasionally   \n",
       "3                         Nil                 Monthly   \n",
       "4           Customer service             Occasionally   \n",
       "\n",
       "                            Motivation of mentorship  \\\n",
       "0  Desire to give back to the community, Personal...   \n",
       "1                               Personal fulfillment   \n",
       "2               Desire to give back to the community   \n",
       "3                               Personal fulfillment   \n",
       "4               Desire to give back to the community   \n",
       "\n",
       "              important of mentoring                 connect with mentee  \\\n",
       "0  Providing guidance on career paths                   All of the Above   \n",
       "1  Providing guidance on career paths                   All of the Above   \n",
       "2  Providing guidance on career paths                   All of the Above   \n",
       "3  Providing guidance on career paths  Through formal mentoring programs   \n",
       "4  Providing guidance on career paths         Through personal referrals   \n",
       "\n",
       "  qualities for student mentee Important connection to student platform  \\\n",
       "0             All of the Above                      Extremely important   \n",
       "1             All of the Above                      Extremely important   \n",
       "2             All of the Above                           Very important   \n",
       "3           Eagerness to learn                           Very important   \n",
       "4           Eagerness to learn                           Very important   \n",
       "\n",
       "                     Challenges faced with mentoring  \\\n",
       "0                          Mentee home grown effect    \n",
       "1  Keeping track of students/mentees growth, Lack...   \n",
       "2           Keeping track of students/mentees growth   \n",
       "3                            Lack of mentorship plan   \n",
       "4                     Lack of motivation by students   \n",
       "\n",
       "    Benefits of mentorship platform with mentees  \n",
       "0                              Quite fulfilling   \n",
       "1  It will help in more networking with mentees   \n",
       "2                                            NaN  \n",
       "3             It will give me the ease of access  \n",
       "4                       That would be fantastic   "
      ]
     },
     "execution_count": 4,
     "metadata": {},
     "output_type": "execute_result"
    }
   ],
   "source": [
    "df.head()"
   ]
  },
  {
   "cell_type": "code",
   "execution_count": 5,
   "id": "5b959b5e",
   "metadata": {
    "scrolled": true
   },
   "outputs": [
    {
     "data": {
      "text/plain": [
       "Age                                              int64\n",
       "Gender                                          object\n",
       "Country                                         object\n",
       "State                                           object\n",
       "Specialization                                  object\n",
       "Organization                                    object\n",
       "Occupation                                      object\n",
       "Frequency of mentorship                         object\n",
       "Motivation of mentorship                        object\n",
       "important of mentoring                          object\n",
       "connect with mentee                             object\n",
       "qualities for student mentee                    object\n",
       "Important connection to student platform        object\n",
       "Challenges faced with mentoring                 object\n",
       "Benefits of mentorship platform with mentees    object\n",
       "dtype: object"
      ]
     },
     "execution_count": 5,
     "metadata": {},
     "output_type": "execute_result"
    }
   ],
   "source": [
    "df.dtypes # Checking the data types of each coloumn"
   ]
  },
  {
   "cell_type": "code",
   "execution_count": 6,
   "id": "72d07164",
   "metadata": {},
   "outputs": [
    {
     "data": {
      "text/plain": [
       "Age                                             0\n",
       "Gender                                          0\n",
       "Country                                         0\n",
       "State                                           0\n",
       "Specialization                                  0\n",
       "Organization                                    0\n",
       "Occupation                                      0\n",
       "Frequency of mentorship                         0\n",
       "Motivation of mentorship                        0\n",
       "important of mentoring                          0\n",
       "connect with mentee                             0\n",
       "qualities for student mentee                    0\n",
       "Important connection to student platform        0\n",
       "Challenges faced with mentoring                 0\n",
       "Benefits of mentorship platform with mentees    2\n",
       "dtype: int64"
      ]
     },
     "execution_count": 6,
     "metadata": {},
     "output_type": "execute_result"
    }
   ],
   "source": [
    "df.isna().sum()  #Checking the nan values"
   ]
  },
  {
   "cell_type": "code",
   "execution_count": 8,
   "id": "65642567",
   "metadata": {},
   "outputs": [
    {
     "data": {
      "text/plain": [
       "(27, 15)"
      ]
     },
     "execution_count": 8,
     "metadata": {},
     "output_type": "execute_result"
    }
   ],
   "source": [
    "df.shape"
   ]
  },
  {
   "cell_type": "code",
   "execution_count": 9,
   "id": "72fd21be",
   "metadata": {},
   "outputs": [
    {
     "data": {
      "text/html": [
       "<div>\n",
       "<style scoped>\n",
       "    .dataframe tbody tr th:only-of-type {\n",
       "        vertical-align: middle;\n",
       "    }\n",
       "\n",
       "    .dataframe tbody tr th {\n",
       "        vertical-align: top;\n",
       "    }\n",
       "\n",
       "    .dataframe thead th {\n",
       "        text-align: right;\n",
       "    }\n",
       "</style>\n",
       "<table border=\"1\" class=\"dataframe\">\n",
       "  <thead>\n",
       "    <tr style=\"text-align: right;\">\n",
       "      <th></th>\n",
       "      <th>count</th>\n",
       "      <th>mean</th>\n",
       "      <th>std</th>\n",
       "      <th>min</th>\n",
       "      <th>25%</th>\n",
       "      <th>50%</th>\n",
       "      <th>75%</th>\n",
       "      <th>max</th>\n",
       "    </tr>\n",
       "  </thead>\n",
       "  <tbody>\n",
       "    <tr>\n",
       "      <th>Age</th>\n",
       "      <td>27.0</td>\n",
       "      <td>36.62963</td>\n",
       "      <td>10.378039</td>\n",
       "      <td>23.0</td>\n",
       "      <td>27.0</td>\n",
       "      <td>35.0</td>\n",
       "      <td>43.5</td>\n",
       "      <td>56.0</td>\n",
       "    </tr>\n",
       "  </tbody>\n",
       "</table>\n",
       "</div>"
      ],
      "text/plain": [
       "     count      mean        std   min   25%   50%   75%   max\n",
       "Age   27.0  36.62963  10.378039  23.0  27.0  35.0  43.5  56.0"
      ]
     },
     "execution_count": 9,
     "metadata": {},
     "output_type": "execute_result"
    }
   ],
   "source": [
    "df.describe().T  # statistical view of the dataset"
   ]
  },
  {
   "cell_type": "code",
   "execution_count": 10,
   "id": "e4c2b26a",
   "metadata": {
    "scrolled": true
   },
   "outputs": [
    {
     "data": {
      "text/plain": [
       "Index(['Age', 'Gender', 'Country', 'State', 'Specialization', 'Organization',\n",
       "       'Occupation', 'Frequency of mentorship', 'Motivation of mentorship',\n",
       "       'important of mentoring ', 'connect with mentee',\n",
       "       'qualities for student mentee',\n",
       "       'Important connection to student platform',\n",
       "       'Challenges faced with mentoring',\n",
       "       'Benefits of mentorship platform with mentees'],\n",
       "      dtype='object')"
      ]
     },
     "execution_count": 10,
     "metadata": {},
     "output_type": "execute_result"
    }
   ],
   "source": [
    "df.columns #checking the types of columns for the dataset"
   ]
  },
  {
   "cell_type": "markdown",
   "id": "e8da496d",
   "metadata": {},
   "source": [
    "### Visualization of the dataset"
   ]
  },
  {
   "cell_type": "code",
   "execution_count": 13,
   "id": "a4d2974d",
   "metadata": {},
   "outputs": [
    {
     "data": {
      "image/png": "[encoded data removed]",
      "text/plain": [
       "<Figure size 432x288 with 1 Axes>"
      ]
     },
     "metadata": {
      "needs_background": "light"
     },
     "output_type": "display_data"
    }
   ],
   "source": [
    "df.Country.value_counts().plot(kind='bar');"
   ]
  },
  {
   "cell_type": "code",
   "execution_count": 25,
   "id": "228bc0d9",
   "metadata": {},
   "outputs": [
    {
     "data": {
      "text/plain": [
       "<AxesSubplot:>"
      ]
     },
     "execution_count": 25,
     "metadata": {},
     "output_type": "execute_result"
    },
    {
     "data": {
      "image/png": "[encoded data removed]",
      "text/plain": [
       "<Figure size 432x288 with 1 Axes>"
      ]
     },
     "metadata": {
      "needs_background": "light"
     },
     "output_type": "display_data"
    }
   ],
   "source": [
    "df.State.value_counts().plot(kind='barh')"
   ]
  },
  {
   "cell_type": "code",
   "execution_count": 16,
   "id": "3e1e9435",
   "metadata": {},
   "outputs": [
    {
     "data": {
      "text/plain": [
       "<AxesSubplot:xlabel='Country', ylabel='Age'>"
      ]
     },
     "execution_count": 16,
     "metadata": {},
     "output_type": "execute_result"
    },
    {
     "data": {
      "image/png": "[encoded data removed]",
      "text/plain": [
       "<Figure size 432x288 with 1 Axes>"
      ]
     },
     "metadata": {
      "needs_background": "light"
     },
     "output_type": "display_data"
    }
   ],
   "source": [
    "# Checking the number Country against their Age\n",
    "sns.barplot(df, x='Country',y='Age')\n"
   ]
  },
  {
   "cell_type": "code",
   "execution_count": 24,
   "id": "f7d4acd4",
   "metadata": {
    "scrolled": true
   },
   "outputs": [
    {
     "data": {
      "image/png": "[encoded data removed]",
      "text/plain": [
       "<Figure size 432x288 with 1 Axes>"
      ]
     },
     "metadata": {
      "needs_background": "light"
     },
     "output_type": "display_data"
    }
   ],
   "source": [
    "# Checking the motivation of the responds of mentorship in relations to students\n",
    "df['Motivation of mentorship'].value_counts().plot(kind='barh');"
   ]
  },
  {
   "cell_type": "code",
   "execution_count": 33,
   "id": "7d985085",
   "metadata": {
    "scrolled": true
   },
   "outputs": [
    {
     "data": {
      "image/png": "[encoded data removed]",
      "text/plain": [
       "<Figure size 432x288 with 1 Axes>"
      ]
     },
     "metadata": {
      "needs_background": "light"
     },
     "output_type": "display_data"
    }
   ],
   "source": [
    "# Checking the frequency of mentorship to students\n",
    "sns.countplot(df, x=df['Frequency of mentorship']);\n",
    "\n"
   ]
  },
  {
   "cell_type": "code",
   "execution_count": 35,
   "id": "cd19e551",
   "metadata": {
    "scrolled": true
   },
   "outputs": [
    {
     "data": {
      "image/png": "[encoded data removed]",
      "text/plain": [
       "<Figure size 432x288 with 1 Axes>"
      ]
     },
     "metadata": {
      "needs_background": "light"
     },
     "output_type": "display_data"
    }
   ],
   "source": [
    "df['Challenges faced with mentoring'].value_counts().plot(kind='barh');"
   ]
  },
  {
   "cell_type": "code",
   "execution_count": 26,
   "id": "2ce97f4b",
   "metadata": {},
   "outputs": [
    {
     "data": {
      "image/png": "[encoded data removed]",
      "text/plain": [
       "<Figure size 432x288 with 1 Axes>"
      ]
     },
     "metadata": {
      "needs_background": "light"
     },
     "output_type": "display_data"
    }
   ],
   "source": [
    "sns.countplot(df,x=\"Gender\"); #checking the gender disparities of the respondents"
   ]
  },
  {
   "cell_type": "markdown",
   "id": "b6669e5a",
   "metadata": {
    "collapsed": true
   },
   "source": [
    "## Conclusion"
   ]
  },
  {
   "cell_type": "raw",
   "id": "1b7c12cb",
   "metadata": {},
   "source": [
    "From the visualization it is seen that when the platform acquired it will aid the frequency of the mentorship to student relations; which will intend make students more focus to their studies and career goals. "
   ]
  },
  {
   "cell_type": "markdown",
   "id": "9b014636",
   "metadata": {},
   "source": [
    "#### The dataset is too small to be used for supervised learning algorithm and therefore required only visualization and clean up to be done. "
   ]
  },
  {
   "cell_type": "code",
   "execution_count": null,
   "id": "2e12a519",
   "metadata": {},
   "outputs": [],
   "source": []
  }
 ],
 "metadata": {
  "hide_input": false,
  "kernelspec": {
   "display_name": "Python 3 (ipykernel)",
   "language": "python",
   "name": "python3"
  },
  "language_info": {
   "codemirror_mode": {
    "name": "ipython",
    "version": 3
   },
   "file_extension": ".py",
   "mimetype": "text/x-python",
   "name": "python",
   "nbconvert_exporter": "python",
   "pygments_lexer": "ipython3",
   "version": "3.7.8"
  },
  "toc": {
   "base_numbering": 1,
   "nav_menu": {},
   "number_sections": true,
   "sideBar": true,
   "skip_h1_title": false,
   "title_cell": "Table of Contents",
   "title_sidebar": "Contents",
   "toc_cell": false,
   "toc_position": {},
   "toc_section_display": true,
   "toc_window_display": false
  }
 },
 "nbformat": 4,
 "nbformat_minor": 5
}
